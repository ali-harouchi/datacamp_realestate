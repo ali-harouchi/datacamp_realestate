{
 "cells": [
  {
   "cell_type": "markdown",
   "metadata": {},
   "source": [
    "# Data camp project - Part 2\n",
    "##  Real estate prices prediction challenge\n",
    "#### *Ali El Harouchi, Chiekh Alloul, Inasse Mohib, Alexandre Lanvin, Benoît Massé, Samuel Halimi*"
   ]
  },
  {
   "cell_type": "markdown",
   "metadata": {},
   "source": [
    "<img src=\"https://www.10wallpaper.com/wallpaper/1366x768/1207/paris_cityscape-France_landscape_wallpaper_1366x768.jpg\" width=\"1000\">"
   ]
  },
  {
   "cell_type": "markdown",
   "metadata": {},
   "source": [
    "# <a style=\"color:#000000\"> Summary </a>\n",
    "\n",
    "##  <a href=\"#I.-Business-case\"> I. Business case</a>\n",
    "\n",
    "1. Introduction\n",
    "2. Business case\n",
    "3. Data source\n",
    "4. KPIs\n",
    "5. Metrics\n",
    "\n",
    "##  <a href=\"#II.-Exploratory-Data-Analysis\"> II. Exploratory Data Analysis </a>\n",
    "\n",
    "\n",
    "##  <a href=\"#III.-Model-to-submit\"> III. Baseline predictor </a>\n",
    "\n",
    "1. Feature Extractor\n",
    "2. Baseline Regressor\n",
    "3. Evaluation\n",
    "\n",
    "##  <a href=\"#IV.-Submitting-on-RAMP\"> IV. Submission </a>"
   ]
  },
  {
   "cell_type": "markdown",
   "metadata": {},
   "source": [
    "#  <a style=\"color:#000000\">I. Business case</a>"
   ]
  },
  {
   "cell_type": "markdown",
   "metadata": {},
   "source": [
    "## 1. Introduction: Context of the business case"
   ]
  },
  {
   "cell_type": "markdown",
   "metadata": {},
   "source": [
    "<i>What is the actual context?\n",
    "\n"
   ]
  },
  {
   "cell_type": "markdown",
   "metadata": {},
   "source": [
    "Today, France is peaking towards its highest real eastate prices. Bordeaux, Paris are only one of the most expensive cities of the country. But the real estate market is very volatile and very hard to predict with the actual simple models. "
   ]
  },
  {
   "cell_type": "markdown",
   "metadata": {},
   "source": [
    "<img src=\"https://upload.wikimedia.org/wikipedia/commons/thumb/d/da/Friggit_paris_france_serie_longue_2010.svg/2560px-Friggit_paris_france_serie_longue_2010.svg.png\" width=\"600\">"
   ]
  },
  {
   "cell_type": "markdown",
   "metadata": {},
   "source": [
    "We see in this graph that the prics indicators are very similar for Paris and France. So we decied, to focus and give the example of Paris, aiming to do a more thorough contextualization and vizualization. But it will be the same, for the whole country."
   ]
  },
  {
   "cell_type": "markdown",
   "metadata": {},
   "source": [
    "<i>Focus on the Paris' Case</i>"
   ]
  },
  {
   "cell_type": "markdown",
   "metadata": {},
   "source": [
    "Paris is the most populous city in France, with 2,140,526 people in January 2019. Since the 1700s, Paris has been one of the most important center of finance, diplomacy, commerce, fashion, science and arts in Europe.\n",
    "\n",
    "According to the Economist Intelligence Unit Worldwide Cost of Living Survey in 2018, Paris is the second most expensive city in the world, after Singapore, and ahead of Zürich, Hong Kong, Oslo and Geneva. This is especially true for housing as the real estate market has been booming in Paris. Indeed, demand is much more important than supply in Paris, which suffers from a lack of available building land and important urban and legal constraints. This has resulted in a quite rapid surge of the price per sqm over the last few years -- about 61% over ten years. Last September, real estate in Paris made the headlines as 13 arrondissements in Paris had an average price per sqm over 10 000 euros/sqm. Although, this average remains lower than that of New York and London, it is quite significant when normalized with costs of living and median salaries in Paris. As such, it is worth trying to what are the main levers that affect a real estate asset's price in Paris."
   ]
  },
  {
   "cell_type": "markdown",
   "metadata": {},
   "source": [
    "<img src=\"http://thumbor-prod-eu-central-1.photo.aws.arc.pub/nPB6xIyLAk-e5lzHZRCGl4vMSuM=/arc-anglerfish-eu-central-1-prod-leparisien/public/5MHJME4UHTH24XR7VK5GZJ7EFY.jpg\" width=\"600\">"
   ]
  },
  {
   "cell_type": "markdown",
   "metadata": {},
   "source": [
    "As shown above, prices have been surging and are expected to keep on increasing over the next few years. Some estimates mention an average equilibrium price at 15000 €/sqm. Few reasons might explain why demand has been so active lately: attractive interest rates and decreasing saving rates (Livret A) mostly justify this craze for buying real estate in Paris, even for investment purposes. "
   ]
  },
  {
   "cell_type": "markdown",
   "metadata": {},
   "source": [
    "## 2. Business case"
   ]
  },
  {
   "cell_type": "markdown",
   "metadata": {},
   "source": [
    "<i> Why looking into this problem?"
   ]
  },
  {
   "cell_type": "markdown",
   "metadata": {},
   "source": [
    "The actual fear is that France and more particularly in Paris, is that another real estate bubble bursts like the one that began in the 2000s and led to the financial crisis in the US. Real Estate bubble can be defined as \"a type of economic bubble that occurs periodically in local or global real estate markets, and typically follows a land boom.\" These bubbles can happen when prices increase up to a point where they reach unsustainable levels and then decline. The impact can be disastrous, sometimes twice as large as stock market bubbles (IMF World Economic Outlook, 2003).\n",
    "\n",
    "Studying real estate datasets in France will allow individuals to better predict the real estate prices in yhe country and focus on fundamental data instead of following a craze, which is facilitated by low interest rates and poor saving rates options. \n",
    "\n",
    "Using this dataset to do predictions will help to predict the price of this very volatile market and it is very meaningful for us, it can be seen as a public service."
   ]
  },
  {
   "cell_type": "markdown",
   "metadata": {},
   "source": [
    "## 3. Datasource"
   ]
  },
  {
   "cell_type": "markdown",
   "metadata": {},
   "source": [
    "### 3.1 Housing Dataset "
   ]
  },
  {
   "cell_type": "markdown",
   "metadata": {},
   "source": [
    "This dataset is provided by data.gouv.fr and gives geolocalised information about housing prices. It was extracted from France's General direction of Public Finance's website. It was very recently made public and deserves to be studied as meaningful insights could be leveraged."
   ]
  },
  {
   "cell_type": "markdown",
   "metadata": {},
   "source": [
    "Useful link to download the data for desired geographical locations:\n",
    "\n",
    "- https://app.dvf.etalab.gouv.fr"
   ]
  },
  {
   "cell_type": "markdown",
   "metadata": {},
   "source": [
    "### Features explanation"
   ]
  },
  {
   "cell_type": "markdown",
   "metadata": {},
   "source": [
    "\n",
    "<b>nature_mutation</b> : Nature de la mutation (vente, expropriation, échange,...)\n",
    "\n",
    "<b>date_mutation</b> : Date de la mutation au format ISO-8601 (YYYY-MM-DD)\n",
    "\n",
    "<b>numero_disposition</b> : Numéro de disposition\n",
    "\n",
    "<b>valeur_fonciere</b> : Valeur foncière (séparateur décimal = point)\n",
    "\n",
    "<b>numero_voie</b> : Numéro de l'adresse\n",
    "\n",
    "<b>suffixe_numero</b> : Suffixe du numéro de l'adresse (B, T, Q)\n",
    "\n",
    "<b>type_voie</b> : Type de voie (RUE, AV,...)\n",
    "\n",
    "<b>code_voie</b> : Code FANTOIR** de la voie (4 caractères)\n",
    "\n",
    "<b>voie</b> : Nom de la voie de l'adresse\n",
    "\n",
    "<b>code_postal</b> : Code postal (5 caractères)\n",
    "\n",
    "<b>code_commune</b> : Code commune INSEE (5 caractères)\n",
    "\n",
    "<b>commune</b> : Nom de la commune \n",
    "\n",
    "<b>code_departement</b> : Code département INSEE (2 ou 3 caractères)\n",
    "\n",
    "<b>prefixe_section</b> : Code cadastral (1 à 3 chiffres)\n",
    "\n",
    "<b>section</b> : Référence cadastrale (2 caractères)\n",
    "\n",
    "<b>numero_plan</b> : Identifiant de parcelle (14 caractères)\n",
    "\n",
    "<b>numero_volume</b> : Numéro de volume\n",
    "\n",
    "<b>lot_i</b> : Numéro du lot i\n",
    "\n",
    "<b>surface_lot_i</b> : Surface Carrez* du lot i\n",
    "\n",
    "<b>nombre_lots</b> : Nombre de lots\n",
    "\n",
    "<b>code_type_local</b> : Code de type de local\n",
    "\n",
    "<b>type_local</b> : Libellé du type de local\n",
    "\n",
    "<b>surface_reelle_bati</b> : Surface réelle du bâti\n",
    "\n",
    "<b>nombre_pieces_principales</b> : Nombre de pièces principales\n",
    "\n",
    "<b>code_nature_culture</b> : Code de nature de culture\n",
    "\n",
    "<b>nature_culture</b> : Libellé de nature de culture\n",
    "\n",
    "<b>nature_culture_speciale</b> : Libellé de nature de culture spéciale\n",
    "\n",
    "<b>surface_terrain</b> : Surface du terrain\n",
    "\n",
    "\n",
    "*<i>\"La surface Carrez, est la superficie des planchers des locaux clos et couverts après déduction des surfaces occupées par les murs, cloisons, marches et cages d'escaliers, gaines, embrasures de portes et de fenêtres.\" </i>\n",
    "\n",
    "**<i>\"FANTOIR, dit Fichier ANnuaire TOpographique Initialisé Réduitest un fichier français listant, par commune, les voies, lieux-dits et ensembles immobiliers.\" </i>"
   ]
  },
  {
   "cell_type": "code",
   "execution_count": 5,
   "metadata": {},
   "outputs": [],
   "source": [
    "import pandas as pd\n",
    "import numpy as np\n",
    "from matplotlib import pyplot as plt\n",
    "\n",
    "import geopandas\n",
    "import json\n",
    "\n",
    "from bokeh.io import output_notebook, show, output_file\n",
    "from bokeh.plotting import figure\n",
    "from bokeh.models import GeoJSONDataSource, LinearColorMapper, ColorBar, NumeralTickFormatter\n",
    "from bokeh.palettes import brewer\n",
    "\n",
    "from bokeh.io.doc import curdoc\n",
    "from bokeh.models import Slider, HoverTool, Select\n",
    "from bokeh.layouts import widgetbox, row, column"
   ]
  },
  {
   "cell_type": "code",
   "execution_count": 32,
   "metadata": {},
   "outputs": [
    {
     "name": "stdout",
     "output_type": "stream",
     "text": [
      "Downloading from https://drive.google.com/uc?export=download&id1fyT1h8WzMvzb2r25u2c-iv0UL874QEGe ...\n",
      "Downloading 1fyT1h8WzMvzb2r25u2c-iv0UL874QEGe into ./data/real_estate_train.csv.gz... Done.\n",
      "=> File saved as real_estate_train.csv.gz\n",
      "Downloading from https://drive.google.com/uc?export=download&id1urrukqPsHRvMBA0n279SdnluWgBQQ8qg ...\n",
      "Downloading 1urrukqPsHRvMBA0n279SdnluWgBQQ8qg into ./data/real_estate_test.csv.gz... Done.\n",
      "=> File saved as real_estate_test.csv.gz\n",
      "Downloading from https://drive.google.com/uc?export=download&id19cO2mHbdcQlCJgxpDZG7A00hgRt6sntF ...\n",
      "Downloading 19cO2mHbdcQlCJgxpDZG7A00hgRt6sntF into ./data/dvf-2014-2018.csv.gz... Done.\n",
      "=> File saved as dvf-2014-2018.csv.gz\n"
     ]
    }
   ],
   "source": [
    "%run download.py"
   ]
  },
  {
   "cell_type": "code",
   "execution_count": 33,
   "metadata": {},
   "outputs": [
    {
     "name": "stderr",
     "output_type": "stream",
     "text": [
      "/Users/alielharouchi/anaconda3/lib/python3.7/site-packages/IPython/core/interactiveshell.py:3057: DtypeWarning: Columns (18,19,23,24,26,28,30,32,41) have mixed types. Specify dtype option on import or set low_memory=False.\n",
      "  interactivity=interactivity, compiler=compiler, result=result)\n"
     ]
    },
    {
     "data": {
      "text/plain": [
       "(13903117, 43)"
      ]
     },
     "execution_count": 33,
     "metadata": {},
     "output_type": "execute_result"
    }
   ],
   "source": [
    "data = pd.read_csv('data/dvf-2014-2018.csv.gz', compression='gzip')\n",
    "data.shape"
   ]
  },
  {
   "cell_type": "code",
   "execution_count": 3,
   "metadata": {},
   "outputs": [
    {
     "data": {
      "text/plain": [
       "code_service_ch              float64\n",
       "reference_document           float64\n",
       "articles_1                   float64\n",
       "articles_2                   float64\n",
       "articles_3                   float64\n",
       "articles_4                   float64\n",
       "articles_5                   float64\n",
       "numero_disposition             int64\n",
       "date_mutation                 object\n",
       "nature_mutation               object\n",
       "valeur_fonciere              float64\n",
       "numero_voie                  float64\n",
       "suffixe_numero                object\n",
       "type_voie                     object\n",
       "code_voie                     object\n",
       "voie                          object\n",
       "code_postal                  float64\n",
       "commune                       object\n",
       "code_departement              object\n",
       "code_commune                  object\n",
       "prefixe_section              float64\n",
       "section                       object\n",
       "numero_plan                   object\n",
       "numero_volume                 object\n",
       "lot_1                         object\n",
       "surface_lot_1                float64\n",
       "lot_2                         object\n",
       "surface_lot_2                float64\n",
       "lot_3                         object\n",
       "surface_lot_3                float64\n",
       "lot_4                         object\n",
       "surface_lot_4                float64\n",
       "lot_5                         object\n",
       "surface_lot_51               float64\n",
       "nombre_lots                    int64\n",
       "code_type_local              float64\n",
       "type_local                    object\n",
       "identifiant_local            float64\n",
       "surface_relle_bati           float64\n",
       "nombre_pieces_principales    float64\n",
       "nature_culture                object\n",
       "nature_culture_speciale       object\n",
       "surface_terrain              float64\n",
       "dtype: object"
      ]
     },
     "execution_count": 3,
     "metadata": {},
     "output_type": "execute_result"
    }
   ],
   "source": [
    "data.dtypes"
   ]
  },
  {
   "cell_type": "markdown",
   "metadata": {},
   "source": [
    "#### 3.2 Complementary Datasets\n",
    "\n",
    "On top of this dataset, additional information might be consider to better understand Paris's real estate market. A few datasets have been selected from the data lake opendata (https://opendata.paris.fr/), created by the French government, and might be considered for further studies:\n",
    "\n",
    "- Autorisations d'urbanisme - 6 derniers mois\n",
    "- Autorisations d'Urbanisme - Historique\n",
    "- Logements sociaux financés à Paris\n",
    "- Logement - Encadrement des loyers 2019\n",
    "- Volumes bâtis\n",
    "- PLU - Périmètres de localisation d'équipements\n",
    "\n",
    "These datasets offer different insights about the real estate market in Paris. For instance, knowing more about urban authorisation can yield interesting learnings about how Paris will be structure in the coming years. Another example would be the legal framework to limit the rental price of some appartment, that necessarily affect the real estate market in Paris, especially when assets are considered as investments."
   ]
  },
  {
   "cell_type": "markdown",
   "metadata": {},
   "source": [
    "<i> N.B: We can choose the data to use depending on our motivations. Since we showed a similarity between the indices of France and Paris, we chose to focus on a data vizualization for this city in particular.\n",
    "But for our predictor, we chose to take the whole country data and we randomly select a portion (because it was too heavy).  It's a very naive selection, it's up to you to choose the best selection to train the model. </i>"
   ]
  },
  {
   "cell_type": "markdown",
   "metadata": {},
   "source": [
    "## 4. KPI"
   ]
  },
  {
   "cell_type": "markdown",
   "metadata": {},
   "source": [
    "The key performance that we want to improve are :"
   ]
  },
  {
   "cell_type": "markdown",
   "metadata": {},
   "source": [
    "•\tMarket dynamic : be able to precisely predict sales over the years\n",
    "\n",
    "•\tPrice evolution : be able to predict the price evolution and avoid too high prices  \n"
   ]
  },
  {
   "cell_type": "markdown",
   "metadata": {},
   "source": [
    "## 5. Metrics"
   ]
  },
  {
   "cell_type": "markdown",
   "metadata": {},
   "source": [
    "The more important thing that we want to have is to see how close are our predictions to the real prices. We could use any performance metric, like MSE, MAE, etc.\n",
    "\n",
    "The squared errors like MSE or Mean Square Error represents the sample standard deviation of the differences between predicted values and observed values. It's very sensitive to outliers. Absolute erros like MAE Mean absolute Error is the average of the absolute difference between the predicted values and observed value. The MAE is a linear score which means that all the individual differences are weighted equally in the average. \n",
    "\n",
    "In MAE and RMSE you simply look at the \"average difference\" between those two values - so you interpret them comparing to the scale of your valiable.In RAE, we divide those differences by the variation of 𝜃 so they have a scale from 0 to 1 and if you multiply this value by 100 you get similarity in 0-100 scale (i.e. percentage). The values of ∑|𝜃−𝜃𝑖| tell you how much 𝜃 differs from it's mean value - so you could tell that it is about how much 𝜃 differs from itself (compare to variance. \n",
    "\n",
    "So we choose to use RAE or Relative Absolute Error, because it's the most signicatif one.\n",
    "\n",
    "We define it as : \n",
    "\n",
    "$$ \\frac{\\sum_{i=1}^{n} \\lvert p_i - a_i\\rvert}{\\sum_{i=1}^{n}\\lvert \\bar{a_i} - a_i \\rvert}$$ \n",
    "\n",
    "Where $p_i$ are the prediction, $a_i$ the real value and $\\bar{a_i}$ the average of the $a_i$.\n",
    "\n",
    "\n",
    "\n"
   ]
  },
  {
   "cell_type": "markdown",
   "metadata": {},
   "source": [
    "#  <a style=\"color:#000000\">II. Exploratory Data Analysis</a>"
   ]
  },
  {
   "cell_type": "code",
   "execution_count": 4,
   "metadata": {},
   "outputs": [],
   "source": [
    "inp = data.drop(['valeur_fonciere'], axis=1)\n",
    "out = data['valeur_fonciere']"
   ]
  },
  {
   "cell_type": "code",
   "execution_count": 6,
   "metadata": {},
   "outputs": [
    {
     "data": {
      "text/plain": [
       "code_service_ch              13903117\n",
       "reference_document           13903117\n",
       "articles_1                   13903117\n",
       "articles_2                   13903117\n",
       "articles_3                   13903117\n",
       "articles_4                   13903117\n",
       "articles_5                   13903117\n",
       "numero_disposition                  0\n",
       "date_mutation                       0\n",
       "nature_mutation                     0\n",
       "numero_voie                   5963258\n",
       "suffixe_numero               13325696\n",
       "type_voie                     6148981\n",
       "code_voie                      120855\n",
       "voie                           135671\n",
       "code_postal                    132523\n",
       "commune                         10690\n",
       "code_departement                    0\n",
       "code_commune                        0\n",
       "prefixe_section              13410496\n",
       "section                           452\n",
       "numero_plan                         0\n",
       "numero_volume                13862726\n",
       "lot_1                         9703581\n",
       "surface_lot_1                12762428\n",
       "lot_2                        13003480\n",
       "surface_lot_2                13619705\n",
       "lot_3                        13754408\n",
       "surface_lot_3                13875040\n",
       "lot_4                        13851883\n",
       "surface_lot_4                13895966\n",
       "lot_5                        13878933\n",
       "surface_lot_51               13900030\n",
       "nombre_lots                         0\n",
       "code_type_local               6423482\n",
       "type_local                    6423482\n",
       "identifiant_local            13903117\n",
       "surface_relle_bati            6435774\n",
       "nombre_pieces_principales     6435774\n",
       "nature_culture                4254061\n",
       "nature_culture_speciale      13244529\n",
       "surface_terrain               4254061\n",
       "dtype: int64"
      ]
     },
     "execution_count": 6,
     "metadata": {},
     "output_type": "execute_result"
    }
   ],
   "source": [
    "inp.isna().sum()"
   ]
  },
  {
   "cell_type": "markdown",
   "metadata": {},
   "source": [
    "### Zoom : Real estate prices in Paris"
   ]
  },
  {
   "cell_type": "code",
   "execution_count": 7,
   "metadata": {},
   "outputs": [],
   "source": [
    "test = data[['date_mutation','numero_plan', 'surface_relle_bati']]\n",
    "test = test.groupby(['numero_plan','date_mutation']).sum().reset_index() ## Une vente peut contenir plusieurs lots, ici on essaye\n",
    "# de determiner quelle est la superficie totale d'une même vente"
   ]
  },
  {
   "cell_type": "code",
   "execution_count": 8,
   "metadata": {},
   "outputs": [
    {
     "data": {
      "text/html": [
       "<div>\n",
       "<style scoped>\n",
       "    .dataframe tbody tr th:only-of-type {\n",
       "        vertical-align: middle;\n",
       "    }\n",
       "\n",
       "    .dataframe tbody tr th {\n",
       "        vertical-align: top;\n",
       "    }\n",
       "\n",
       "    .dataframe thead th {\n",
       "        text-align: right;\n",
       "    }\n",
       "</style>\n",
       "<table border=\"1\" class=\"dataframe\">\n",
       "  <thead>\n",
       "    <tr style=\"text-align: right;\">\n",
       "      <th></th>\n",
       "      <th>Code postal</th>\n",
       "      <th>Prix/m2</th>\n",
       "    </tr>\n",
       "  </thead>\n",
       "  <tbody>\n",
       "    <tr>\n",
       "      <th>0</th>\n",
       "      <td>75001</td>\n",
       "      <td>10312.937800</td>\n",
       "    </tr>\n",
       "    <tr>\n",
       "      <th>1</th>\n",
       "      <td>75002</td>\n",
       "      <td>9798.563498</td>\n",
       "    </tr>\n",
       "    <tr>\n",
       "      <th>2</th>\n",
       "      <td>75003</td>\n",
       "      <td>9582.903747</td>\n",
       "    </tr>\n",
       "    <tr>\n",
       "      <th>3</th>\n",
       "      <td>75004</td>\n",
       "      <td>11653.607051</td>\n",
       "    </tr>\n",
       "    <tr>\n",
       "      <th>4</th>\n",
       "      <td>75005</td>\n",
       "      <td>10309.307139</td>\n",
       "    </tr>\n",
       "    <tr>\n",
       "      <th>5</th>\n",
       "      <td>75006</td>\n",
       "      <td>12337.968337</td>\n",
       "    </tr>\n",
       "    <tr>\n",
       "      <th>6</th>\n",
       "      <td>75007</td>\n",
       "      <td>11756.638566</td>\n",
       "    </tr>\n",
       "    <tr>\n",
       "      <th>7</th>\n",
       "      <td>75008</td>\n",
       "      <td>14421.927863</td>\n",
       "    </tr>\n",
       "    <tr>\n",
       "      <th>8</th>\n",
       "      <td>75009</td>\n",
       "      <td>9205.240963</td>\n",
       "    </tr>\n",
       "    <tr>\n",
       "      <th>9</th>\n",
       "      <td>75010</td>\n",
       "      <td>7928.626769</td>\n",
       "    </tr>\n",
       "    <tr>\n",
       "      <th>10</th>\n",
       "      <td>75011</td>\n",
       "      <td>8053.604504</td>\n",
       "    </tr>\n",
       "    <tr>\n",
       "      <th>11</th>\n",
       "      <td>75012</td>\n",
       "      <td>7699.404862</td>\n",
       "    </tr>\n",
       "    <tr>\n",
       "      <th>12</th>\n",
       "      <td>75013</td>\n",
       "      <td>7714.578752</td>\n",
       "    </tr>\n",
       "    <tr>\n",
       "      <th>13</th>\n",
       "      <td>75014</td>\n",
       "      <td>8386.555636</td>\n",
       "    </tr>\n",
       "    <tr>\n",
       "      <th>14</th>\n",
       "      <td>75015</td>\n",
       "      <td>8439.633222</td>\n",
       "    </tr>\n",
       "    <tr>\n",
       "      <th>15</th>\n",
       "      <td>75016</td>\n",
       "      <td>9388.415111</td>\n",
       "    </tr>\n",
       "    <tr>\n",
       "      <th>16</th>\n",
       "      <td>75017</td>\n",
       "      <td>8483.801705</td>\n",
       "    </tr>\n",
       "    <tr>\n",
       "      <th>17</th>\n",
       "      <td>75018</td>\n",
       "      <td>7501.211088</td>\n",
       "    </tr>\n",
       "    <tr>\n",
       "      <th>18</th>\n",
       "      <td>75019</td>\n",
       "      <td>6800.260763</td>\n",
       "    </tr>\n",
       "    <tr>\n",
       "      <th>19</th>\n",
       "      <td>75020</td>\n",
       "      <td>6933.283535</td>\n",
       "    </tr>\n",
       "  </tbody>\n",
       "</table>\n",
       "</div>"
      ],
      "text/plain": [
       "    Code postal       Prix/m2\n",
       "0         75001  10312.937800\n",
       "1         75002   9798.563498\n",
       "2         75003   9582.903747\n",
       "3         75004  11653.607051\n",
       "4         75005  10309.307139\n",
       "5         75006  12337.968337\n",
       "6         75007  11756.638566\n",
       "7         75008  14421.927863\n",
       "8         75009   9205.240963\n",
       "9         75010   7928.626769\n",
       "10        75011   8053.604504\n",
       "11        75012   7699.404862\n",
       "12        75013   7714.578752\n",
       "13        75014   8386.555636\n",
       "14        75015   8439.633222\n",
       "15        75016   9388.415111\n",
       "16        75017   8483.801705\n",
       "17        75018   7501.211088\n",
       "18        75019   6800.260763\n",
       "19        75020   6933.283535"
      ]
     },
     "execution_count": 8,
     "metadata": {},
     "output_type": "execute_result"
    }
   ],
   "source": [
    "new = data[['date_mutation','nature_mutation', 'code_departement', 'type_local', 'code_commune', 'valeur_fonciere', 'surface_relle_bati','nombre_pieces_principales', 'surface_terrain', 'numero_plan']].copy()\n",
    "new = new[new['code_departement']==75]\n",
    "new['code_commune'] = new['code_commune'].astype(int)\n",
    "new['Code postal'] = new['code_commune']% 75100 + 75000 ##Pour éviter les codes postaux vide\n",
    "new = pd.merge(new, test, left_on=['numero_plan', 'date_mutation'], right_on=['numero_plan', 'date_mutation'], how='left')\n",
    "new = new.drop_duplicates(subset=['numero_plan', 'date_mutation'], keep=\"first\") \n",
    "new = new[new['surface_relle_bati_y'] > 0]\n",
    "new['Prix/m2'] = new['valeur_fonciere'] / new['surface_relle_bati_y']\n",
    "new = new.groupby(['Code postal']).mean().reset_index()\n",
    "new[['Code postal', 'Prix/m2']]"
   ]
  },
  {
   "cell_type": "code",
   "execution_count": 9,
   "metadata": {},
   "outputs": [],
   "source": [
    "sf = geopandas.read_file('https://www.data.gouv.fr/fr/datasets/r/4765fe48-35fd-4536-b029-4727380ce23c')\n",
    "sf.crs = {'init': 'epsg:4326'}\n",
    "#sf.info()\n",
    "sf['objectid'] = sf['objectid']+75000 #To have the whole zipcode"
   ]
  },
  {
   "cell_type": "code",
   "execution_count": 10,
   "metadata": {},
   "outputs": [],
   "source": [
    "sf = sf.merge(new, left_on='objectid', right_on='Code postal')"
   ]
  },
  {
   "cell_type": "code",
   "execution_count": 11,
   "metadata": {
    "scrolled": true
   },
   "outputs": [
    {
     "name": "stderr",
     "output_type": "stream",
     "text": [
      "/Users/alielharouchi/anaconda3/lib/python3.7/site-packages/pyproj/crs.py:77: FutureWarning: '+init=<authority>:<code>' syntax is deprecated. '<authority>:<code>' is the preferred initialization method.\n",
      "  return _prepare_from_string(\" \".join(pjargs))\n"
     ]
    },
    {
     "data": {
      "text/plain": [
       "Text(0.5, 1, 'Real estate prices in Paris by neighbours')"
      ]
     },
     "execution_count": 11,
     "metadata": {},
     "output_type": "execute_result"
    },
    {
     "data": {
      "image/png": "[encoded data removed]",
      "text/plain": [
       "<Figure size 1440x360 with 2 Axes>"
      ]
     },
     "metadata": {
      "needs_background": "light"
     },
     "output_type": "display_data"
    }
   ],
   "source": [
    "fig, ax = plt.subplots(figsize=(20, 5))\n",
    "sf.to_crs(epsg=3857).plot(column='Prix/m2', legend=True, ax=ax, cmap='OrRd', edgecolor='black',  legend_kwds={'label': \"Price /Sqmt (€/sqmt)\",'orientation': \"vertical\"})\n",
    "ax.set_title(\"Real estate prices in Paris by neighbours\", fontsize = 18)"
   ]
  },
  {
   "cell_type": "markdown",
   "metadata": {},
   "source": [
    "We can easily notice on this heat map that the center of Paris is the most expensive part of the city."
   ]
  },
  {
   "cell_type": "markdown",
   "metadata": {},
   "source": [
    "### Price/Sqft variation from 2014 to 2018 (in the whole country)"
   ]
  },
  {
   "cell_type": "code",
   "execution_count": 12,
   "metadata": {},
   "outputs": [],
   "source": [
    "new = data[['date_mutation','nature_mutation', 'code_departement', 'type_local', 'code_commune', 'valeur_fonciere', 'surface_relle_bati','nombre_pieces_principales', 'surface_terrain', 'numero_plan']].copy()\n",
    "new = pd.merge(new, test, left_on=['numero_plan', 'date_mutation'], right_on=['numero_plan', 'date_mutation'], how='left')\n",
    "date = pd.to_datetime(new['date_mutation'], format='%Y-%m-%d')\n",
    "new['année'] = date.dt.year\n",
    "new = new.drop_duplicates(subset=['numero_plan', 'date_mutation'], keep=\"first\") \n",
    "new = new[new['surface_relle_bati_y'] > 0]\n",
    "new['Prix/m2'] = new['valeur_fonciere'] / new['surface_relle_bati_y']\n",
    "new = new.groupby(['année']).mean().reset_index()\n",
    "new = new[['année', 'Prix/m2']].set_index('année')"
   ]
  },
  {
   "cell_type": "code",
   "execution_count": 13,
   "metadata": {},
   "outputs": [
    {
     "data": {
      "image/png": "[encoded data removed]",
      "text/plain": [
       "<Figure size 864x360 with 1 Axes>"
      ]
     },
     "metadata": {
      "needs_background": "light"
     },
     "output_type": "display_data"
    }
   ],
   "source": [
    "fig, ax = plt.subplots(figsize=(12, 5))\n",
    "new.plot(kind = 'line', ax = ax)\n",
    "plt.xticks(np.arange(2014, 2019, 1))\n",
    "plt.xlabel('Years')\n",
    "plt.ylabel('Price / Sqmt (€/Sqmt)')\n",
    "plt.title(\"Real estate's prices evolution from 2014 to 2018 in France\", fontsize = 15)\n",
    "plt.show()"
   ]
  },
  {
   "cell_type": "markdown",
   "metadata": {},
   "source": [
    "Prices have noticed a boom from 2015 to 2017 before falling back."
   ]
  },
  {
   "cell_type": "markdown",
   "metadata": {},
   "source": [
    "### Number of transactions per year in the whole country"
   ]
  },
  {
   "cell_type": "code",
   "execution_count": 14,
   "metadata": {},
   "outputs": [
    {
     "name": "stderr",
     "output_type": "stream",
     "text": [
      "/Users/alielharouchi/anaconda3/lib/python3.7/site-packages/ipykernel_launcher.py:3: SettingWithCopyWarning: \n",
      "A value is trying to be set on a copy of a slice from a DataFrame.\n",
      "Try using .loc[row_indexer,col_indexer] = value instead\n",
      "\n",
      "See the caveats in the documentation: http://pandas.pydata.org/pandas-docs/stable/indexing.html#indexing-view-versus-copy\n",
      "  This is separate from the ipykernel package so we can avoid doing imports until\n"
     ]
    },
    {
     "data": {
      "image/png": "[encoded data removed]",
      "text/plain": [
       "<Figure size 864x360 with 1 Axes>"
      ]
     },
     "metadata": {
      "needs_background": "light"
     },
     "output_type": "display_data"
    }
   ],
   "source": [
    "new = data[['date_mutation']]\n",
    "date = pd.to_datetime(new['date_mutation'], format='%Y-%m-%d')\n",
    "new['année'] = date.dt.year\n",
    "new = new.groupby(['année']).count().reset_index()\n",
    "\n",
    "fig, ax = plt.subplots(figsize=(12, 5))\n",
    "new.plot(kind = 'bar', x='année', y='date_mutation', ax = ax, colormap='OrRd_r',edgecolor='black', legend = False)\n",
    "plt.xlabel('Years')\n",
    "plt.ylabel('Transactions')\n",
    "plt.title(\"Number of transactions in France from 2014 to 2018\", fontsize = 15)\n",
    "plt.show()"
   ]
  },
  {
   "cell_type": "markdown",
   "metadata": {},
   "source": [
    "We can notice that the number of yearly transacations is pretty much stable even if we can notice a peak during 2017."
   ]
  },
  {
   "cell_type": "code",
   "execution_count": 15,
   "metadata": {},
   "outputs": [
    {
     "name": "stderr",
     "output_type": "stream",
     "text": [
      "/Users/alielharouchi/anaconda3/lib/python3.7/site-packages/ipykernel_launcher.py:3: SettingWithCopyWarning: \n",
      "A value is trying to be set on a copy of a slice from a DataFrame.\n",
      "Try using .loc[row_indexer,col_indexer] = value instead\n",
      "\n",
      "See the caveats in the documentation: http://pandas.pydata.org/pandas-docs/stable/indexing.html#indexing-view-versus-copy\n",
      "  This is separate from the ipykernel package so we can avoid doing imports until\n"
     ]
    },
    {
     "data": {
      "image/png": "[encoded data removed]",
      "text/plain": [
       "<Figure size 1008x432 with 1 Axes>"
      ]
     },
     "metadata": {
      "needs_background": "light"
     },
     "output_type": "display_data"
    }
   ],
   "source": [
    "new = data[['date_mutation', 'nature_mutation']]\n",
    "date = pd.to_datetime(new['date_mutation'], format='%Y-%m-%d')\n",
    "new['année'] = date.dt.year\n",
    "new = new.groupby(['nature_mutation', 'année']).count()\n",
    "\n",
    "new.reset_index().pivot_table(index=\"année\", columns=\"nature_mutation\", values=\"date_mutation\").T.plot(kind='barh', figsize=(14, 6))\n",
    "plt.xlabel('Number of transactions')\n",
    "plt.ylabel(\"Transactions' types\")\n",
    "plt.title(\"Transactions' evolution from 2014 to 2018 in France\", fontsize = 15)\n",
    "plt.show()"
   ]
  },
  {
   "cell_type": "code",
   "execution_count": 16,
   "metadata": {},
   "outputs": [
    {
     "name": "stderr",
     "output_type": "stream",
     "text": [
      "/Users/alielharouchi/anaconda3/lib/python3.7/site-packages/ipykernel_launcher.py:3: SettingWithCopyWarning: \n",
      "A value is trying to be set on a copy of a slice from a DataFrame.\n",
      "Try using .loc[row_indexer,col_indexer] = value instead\n",
      "\n",
      "See the caveats in the documentation: http://pandas.pydata.org/pandas-docs/stable/indexing.html#indexing-view-versus-copy\n",
      "  This is separate from the ipykernel package so we can avoid doing imports until\n"
     ]
    },
    {
     "data": {
      "image/png": "[encoded data removed]",
      "text/plain": [
       "<Figure size 1008x432 with 1 Axes>"
      ]
     },
     "metadata": {
      "needs_background": "light"
     },
     "output_type": "display_data"
    }
   ],
   "source": [
    "new = data[['date_mutation', 'type_local']]\n",
    "date = pd.to_datetime(new['date_mutation'], format='%Y-%m-%d')\n",
    "new['année'] = date.dt.year\n",
    "new = new.groupby(['type_local', 'année']).count()\n",
    "\n",
    "new.reset_index().pivot_table(index=\"année\", columns=\"type_local\", values=\"date_mutation\").T.plot(kind='barh', figsize=(14, 6))\n",
    "plt.xlabel('Number of transactions')\n",
    "plt.ylabel(\"Transactions' types\")\n",
    "plt.title(\"Transactions' evolution from 2014 to 2018 in France\", fontsize = 15)\n",
    "plt.show()"
   ]
  },
  {
   "cell_type": "markdown",
   "metadata": {},
   "source": [
    "For each transaction's type, we can notice that we have increasing number of deals from 2014 to 2017. However, from 2017 to 2018, it is decreasing for every class. This is in line with the total number of transactions in the country at that time."
   ]
  },
  {
   "cell_type": "markdown",
   "metadata": {},
   "source": [
    "#  <a style=\"color:#000000\">III. Baseline predictor</a>"
   ]
  },
  {
   "cell_type": "code",
   "execution_count": 1,
   "metadata": {},
   "outputs": [
    {
     "data": {
      "text/plain": [
       "(1484573, 42)"
      ]
     },
     "execution_count": 1,
     "metadata": {},
     "output_type": "execute_result"
    }
   ],
   "source": [
    "from problem import get_train_data\n",
    "data_train, target_train = get_train_data()\n",
    "data_train.shape"
   ]
  },
  {
   "cell_type": "code",
   "execution_count": 2,
   "metadata": {},
   "outputs": [
    {
     "data": {
      "text/plain": [
       "(494921, 42)"
      ]
     },
     "execution_count": 2,
     "metadata": {},
     "output_type": "execute_result"
    }
   ],
   "source": [
    "from problem import get_test_data\n",
    "data_test, target_test = get_test_data()\n",
    "data_test.shape"
   ]
  },
  {
   "cell_type": "markdown",
   "metadata": {},
   "source": [
    "## 1. Feature Extractor"
   ]
  },
  {
   "cell_type": "markdown",
   "metadata": {},
   "source": [
    "### Idea for preprocessing:\n",
    "\n",
    "What we did with voie - type_voie - numero_voie:\n",
    "\n",
    "The channel_code is based on the RIVOLI code, we suppose that the channel information from the rivalry code is whistling to us, so we'll do without the channel_type and channel_number columns:\n",
    "\n",
    "*The first character of the **RIVOLI code** is: -numeric: for channels;-A: for housing estates;-B to W: for places;-X: for pseudo-channels;-Y to Z: for temporary channels.*\n",
    "\n",
    "*Type 1 lanes correspond to the actual lanes such as streets, avenues, etc... Real estate complexes, type 2 lanes, correspond to lanes located in condominiums and housing estates. The so-called lieux-dits, type 3 tracks, are mainly used in rural areas, pseudo-tracks, type 4 tracks, correspond to canals, subway stations... Temporary tracks, type 5 tracks, correspond to tracks that existed at the time of the initial creation of the computer base and which have, in principle, disappeared in favour of type 1, 2, 3 or 4 tracks.*\n",
    "\n"
   ]
  },
  {
   "cell_type": "markdown",
   "metadata": {},
   "source": [
    "As it was computationally too heavy to work with 14 millions samples, we decided to reduce our dataset. We now deal with approximately 2 millions samples."
   ]
  },
  {
   "cell_type": "code",
   "execution_count": 3,
   "metadata": {},
   "outputs": [],
   "source": [
    "#%%file submissions/starting_kit/feature_extractor.py\n",
    "import os\n",
    "import pandas as pd\n",
    "import numpy as np\n",
    "from sklearn.base import BaseEstimator\n",
    "from sklearn.preprocessing import FunctionTransformer\n",
    "from sklearn.compose import ColumnTransformer\n",
    "from sklearn.pipeline import make_pipeline\n",
    "from sklearn.impute import SimpleImputer\n",
    "\n",
    "class FeatureExtractor(BaseEstimator):\n",
    "    \n",
    "    def __init__(self):\n",
    "        pass\n",
    "\n",
    "    def fit(self, X_df, y_array):\n",
    "        \n",
    "        def conversion_code_voie(code):\n",
    "            if code[0] == 'A':\n",
    "                return 1\n",
    "            elif code[0] > 'A' and code[0] < 'X':\n",
    "                return 2\n",
    "            elif code[0] == 'X':\n",
    "                return 3\n",
    "            elif code[0] == 'Y' or code[0] == 'Z':\n",
    "                return 4\n",
    "            else:\n",
    "                return 0\n",
    "   \n",
    "        def process_surface_lot_total(X):\n",
    "            surface_lot_total = X[[\"surface_lot_1\",\"surface_lot_2\",\"surface_lot_3\",\"surface_lot_4\",\"surface_lot_51\"]].mean(axis = 1)\n",
    "            surface_lot_total = surface_lot_total*X.nombre_lots\n",
    "            return surface_lot_total.values.reshape(-1, 1)\n",
    "        surface_lot_total_transformer = FunctionTransformer(process_surface_lot_total, validate=False)\n",
    "\n",
    "        def process_date_mutation(X):\n",
    "            date = pd.to_datetime(X.date_mutation, format='%Y-%m-%d')\n",
    "            return np.c_[date.dt.year, date.dt.month]\n",
    "        date_mutation_transformer = FunctionTransformer(process_date_mutation, validate=False)\n",
    "\n",
    "        def process_nature_mutation(X):\n",
    "            conversion_nature_mutation = {j:i for i,j in enumerate(set(X.nature_mutation))}\n",
    "            nature_mutation = X.nature_mutation.map(conversion_nature_mutation)\n",
    "            return nature_mutation[:, np.newaxis]\n",
    "        nature_mutation_transformer = FunctionTransformer(process_nature_mutation, validate=False)\n",
    "\n",
    "        def process_code_voie(X):\n",
    "            code_voie = X.code_voie.copy()\n",
    "            code_voie.loc[code_voie.notna()] = X.loc[X.code_voie.notna(), 'code_voie'].map(conversion_code_voie)\n",
    "            return code_voie[:, np.newaxis]\n",
    "        code_voie_transformer = FunctionTransformer(process_code_voie, validate=False)\n",
    "\n",
    "        def process_suffixe_numero(X):\n",
    "            l = np.sort(list(set(X.suffixe_numero)))\n",
    "            conv = {l[i]:i for i in range(len(l))}\n",
    "            conv['-'] = np.nan\n",
    "            conv['.'] = np.nan\n",
    "            conv['nan'] = np.nan\n",
    "            suffixe = X.suffixe_numero.map(conv)\n",
    "            suffixe = pd.to_numeric(suffixe, errors='coerce')\n",
    "            return suffixe[:, np.newaxis]\n",
    "        suffixe_numero_transformer = FunctionTransformer(process_suffixe_numero, validate=False)\n",
    "\n",
    "        def numeric(X):\n",
    "            cols = ['code_commune', 'code_departement', 'code_postal', 'code_type_local',\n",
    "                    'nombre_lots', 'nombre_pieces_principales', 'numero_disposition', \n",
    "                    'numero_volume', 'prefixe_section', 'surface_relle_bati', 'surface_terrain']\n",
    "            num_cols_ = []\n",
    "            for col in cols:\n",
    "                num_cols_ += [pd.to_numeric(X.loc[:,col], errors='coerce')]\n",
    "            return pd.concat(num_cols_, axis=1)\n",
    "        numeric_transformer = FunctionTransformer(numeric, validate=False)\n",
    "\n",
    "\n",
    "        surface_totale_col = ['surface_lot_1','surface_lot_2','surface_lot_3','surface_lot_4','surface_lot_51', 'nombre_lots']\n",
    "        date_mutation_col = ['date_mutation']\n",
    "        nature_mutation_col = ['nature_mutation']\n",
    "        code_voie_col = ['code_voie']\n",
    "        suffixe_numero_col = ['suffixe_numero']\n",
    "\n",
    "        num_cols = ['code_commune', 'code_departement', 'code_postal', 'code_type_local',\n",
    "                    'nombre_lots', 'nombre_pieces_principales', 'numero_disposition', \n",
    "                    'numero_volume', 'prefixe_section', 'surface_relle_bati', 'surface_terrain']\n",
    "\n",
    "        drop_cols = ['code_service_ch', 'reference_document', 'articles_1', 'articles_2' ,\n",
    "                     'articles_3', 'articles_4', 'articles_5', 'identifiant_local', 'type_voie',\n",
    "                     'section','numero_plan','nature_culture_speciale', 'nature_culture',\n",
    "                     'surface_lot_1','surface_lot_2','surface_lot_3','surface_lot_4','surface_lot_51',\n",
    "                     'type_local', 'commune', 'voie', 'lot_1', 'lot_2', 'lot_3', 'lot_4', 'lot_5']\n",
    "\n",
    "        preprocessor = ColumnTransformer(\n",
    "            transformers=[\n",
    "                ('surface totale', make_pipeline(surface_lot_total_transformer, SimpleImputer(strategy='median')), surface_totale_col),\n",
    "                ('date_mutation', make_pipeline(date_mutation_transformer, SimpleImputer(strategy='median')), date_mutation_col),\n",
    "                ('nature_mutation', make_pipeline(nature_mutation_transformer, SimpleImputer(strategy='median')), nature_mutation_col),\n",
    "                ('code_voie', make_pipeline(code_voie_transformer, SimpleImputer(strategy='median')), code_voie_col),\n",
    "                ('suffixe_numero', make_pipeline(suffixe_numero_transformer, SimpleImputer(strategy='median')), suffixe_numero_col),\n",
    "                ('num', make_pipeline(numeric_transformer, SimpleImputer(strategy='median')), num_cols),\n",
    "                ('drop cols', 'drop', drop_cols),\n",
    "            ])\n",
    "        \n",
    "\n",
    "        self.preprocessor = preprocessor\n",
    "        self.preprocessor.fit(X_df, y_array)\n",
    "        return self\n",
    "\n",
    "    def transform(self, X_df):\n",
    "        return self.preprocessor.transform(X_df)\n",
    "\n"
   ]
  },
  {
   "cell_type": "markdown",
   "metadata": {},
   "source": [
    "## 2. Baseline Regressor"
   ]
  },
  {
   "cell_type": "code",
   "execution_count": 4,
   "metadata": {},
   "outputs": [],
   "source": [
    "# %%file submissions/starting_kit/regressor.py\n",
    "from sklearn.ensemble import RandomForestRegressor\n",
    "from sklearn.base import BaseEstimator\n",
    "\n",
    "\n",
    "class Regressor(BaseEstimator):\n",
    "    def __init__(self):\n",
    "        self.reg = RandomForestRegressor()\n",
    "\n",
    "    def fit(self, X, y):\n",
    "#         print(sum(np.isnan(y)))\n",
    "        self.reg.fit(X, y)\n",
    "\n",
    "    def predict(self, X):\n",
    "        return self.reg.predict(X)"
   ]
  },
  {
   "cell_type": "code",
   "execution_count": 5,
   "metadata": {},
   "outputs": [
    {
     "name": "stderr",
     "output_type": "stream",
     "text": [
      "/anaconda3/lib/python3.7/site-packages/sklearn/ensemble/forest.py:245: FutureWarning: The default value of n_estimators will change from 10 in version 0.20 to 100 in 0.22.\n",
      "  \"10 in version 0.20 to 100 in 0.22.\", FutureWarning)\n"
     ]
    }
   ],
   "source": [
    "from sklearn.pipeline import make_pipeline\n",
    "\n",
    "model = make_pipeline(FeatureExtractor(), Regressor())\n",
    "\n",
    "model.fit(data_train, target_train)\n",
    "\n",
    "y_pred = model.predict(data_test)"
   ]
  },
  {
   "cell_type": "markdown",
   "metadata": {},
   "source": [
    "## 3. Evaluation of the model with our RAE"
   ]
  },
  {
   "cell_type": "code",
   "execution_count": 6,
   "metadata": {},
   "outputs": [
    {
     "data": {
      "text/plain": [
       "0.1893073841901169"
      ]
     },
     "execution_count": 6,
     "metadata": {},
     "output_type": "execute_result"
    }
   ],
   "source": [
    "from problem import RAE\n",
    "\n",
    "rae = RAE()\n",
    "rae(target_test, y_pred)"
   ]
  },
  {
   "cell_type": "markdown",
   "metadata": {},
   "source": [
    "#  <a style=\"color:#000000\">IV. Submission</a>"
   ]
  },
  {
   "cell_type": "code",
   "execution_count": 7,
   "metadata": {},
   "outputs": [
    {
     "name": "stdout",
     "output_type": "stream",
     "text": [
      "\u001b[38;5;178m\u001b[1mTesting Real estate's prices from 2014 to 2018 in France\u001b[0m\n",
      "\u001b[38;5;178m\u001b[1mReading train and test files from ./data ...\u001b[0m\n",
      "\u001b[38;5;178m\u001b[1mReading cv ...\u001b[0m\n",
      "\u001b[38;5;178m\u001b[1mTraining submissions/starting_kit ...\u001b[0m\n",
      "\u001b[38;5;178m\u001b[1mCV fold 0\u001b[0m\n",
      "/anaconda3/lib/python3.7/site-packages/sklearn/ensemble/forest.py:245: FutureWarning: The default value of n_estimators will change from 10 in version 0.20 to 100 in 0.22.\n",
      "  \"10 in version 0.20 to 100 in 0.22.\", FutureWarning)\n",
      "\t\u001b[38;5;178m\u001b[1mscore   rae        time\u001b[0m\n",
      "\t\u001b[38;5;10m\u001b[1mtrain\u001b[0m  \u001b[38;5;10m\u001b[1m0.09\u001b[0m  \u001b[38;5;150m141.269839\u001b[0m\n",
      "\t\u001b[38;5;12m\u001b[1mvalid\u001b[0m  \u001b[38;5;12m\u001b[1m0.21\u001b[0m   \u001b[38;5;105m14.185910\u001b[0m\n",
      "\t\u001b[38;5;1m\u001b[1mtest\u001b[0m   \u001b[38;5;1m\u001b[1m0.20\u001b[0m    \u001b[38;5;218m4.686632\u001b[0m\n",
      "\u001b[38;5;178m\u001b[1mCV fold 1\u001b[0m\n",
      "/anaconda3/lib/python3.7/site-packages/sklearn/ensemble/forest.py:245: FutureWarning: The default value of n_estimators will change from 10 in version 0.20 to 100 in 0.22.\n",
      "  \"10 in version 0.20 to 100 in 0.22.\", FutureWarning)\n",
      "\t\u001b[38;5;178m\u001b[1mscore   rae        time\u001b[0m\n",
      "\t\u001b[38;5;10m\u001b[1mtrain\u001b[0m  \u001b[38;5;10m\u001b[1m0.09\u001b[0m  \u001b[38;5;150m144.617774\u001b[0m\n",
      "\t\u001b[38;5;12m\u001b[1mvalid\u001b[0m  \u001b[38;5;12m\u001b[1m0.20\u001b[0m   \u001b[38;5;105m14.398452\u001b[0m\n",
      "\t\u001b[38;5;1m\u001b[1mtest\u001b[0m   \u001b[38;5;1m\u001b[1m0.20\u001b[0m    \u001b[38;5;218m4.668005\u001b[0m\n",
      "\u001b[38;5;178m\u001b[1mCV fold 2\u001b[0m\n",
      "/anaconda3/lib/python3.7/site-packages/sklearn/ensemble/forest.py:245: FutureWarning: The default value of n_estimators will change from 10 in version 0.20 to 100 in 0.22.\n",
      "  \"10 in version 0.20 to 100 in 0.22.\", FutureWarning)\n",
      "\t\u001b[38;5;178m\u001b[1mscore   rae        time\u001b[0m\n",
      "\t\u001b[38;5;10m\u001b[1mtrain\u001b[0m  \u001b[38;5;10m\u001b[1m0.09\u001b[0m  \u001b[38;5;150m146.270363\u001b[0m\n",
      "\t\u001b[38;5;12m\u001b[1mvalid\u001b[0m  \u001b[38;5;12m\u001b[1m0.20\u001b[0m   \u001b[38;5;105m14.357706\u001b[0m\n",
      "\t\u001b[38;5;1m\u001b[1mtest\u001b[0m   \u001b[38;5;1m\u001b[1m0.21\u001b[0m    \u001b[38;5;218m4.692432\u001b[0m\n",
      "\u001b[38;5;178m\u001b[1mCV fold 3\u001b[0m\n",
      "/anaconda3/lib/python3.7/site-packages/sklearn/ensemble/forest.py:245: FutureWarning: The default value of n_estimators will change from 10 in version 0.20 to 100 in 0.22.\n",
      "  \"10 in version 0.20 to 100 in 0.22.\", FutureWarning)\n",
      "\t\u001b[38;5;178m\u001b[1mscore   rae        time\u001b[0m\n",
      "\t\u001b[38;5;10m\u001b[1mtrain\u001b[0m  \u001b[38;5;10m\u001b[1m0.09\u001b[0m  \u001b[38;5;150m150.945662\u001b[0m\n",
      "\t\u001b[38;5;12m\u001b[1mvalid\u001b[0m  \u001b[38;5;12m\u001b[1m0.22\u001b[0m   \u001b[38;5;105m14.976419\u001b[0m\n",
      "\t\u001b[38;5;1m\u001b[1mtest\u001b[0m   \u001b[38;5;1m\u001b[1m0.21\u001b[0m    \u001b[38;5;218m4.735606\u001b[0m\n",
      "\u001b[38;5;178m\u001b[1mCV fold 4\u001b[0m\n",
      "/anaconda3/lib/python3.7/site-packages/sklearn/ensemble/forest.py:245: FutureWarning: The default value of n_estimators will change from 10 in version 0.20 to 100 in 0.22.\n",
      "  \"10 in version 0.20 to 100 in 0.22.\", FutureWarning)\n",
      "\t\u001b[38;5;178m\u001b[1mscore   rae        time\u001b[0m\n",
      "\t\u001b[38;5;10m\u001b[1mtrain\u001b[0m  \u001b[38;5;10m\u001b[1m0.09\u001b[0m  \u001b[38;5;150m152.353703\u001b[0m\n",
      "\t\u001b[38;5;12m\u001b[1mvalid\u001b[0m  \u001b[38;5;12m\u001b[1m0.22\u001b[0m   \u001b[38;5;105m15.160789\u001b[0m\n",
      "\t\u001b[38;5;1m\u001b[1mtest\u001b[0m   \u001b[38;5;1m\u001b[1m0.20\u001b[0m    \u001b[38;5;218m4.860638\u001b[0m\n",
      "\u001b[38;5;178m\u001b[1m----------------------------\u001b[0m\n",
      "\u001b[38;5;178m\u001b[1mMean CV scores\u001b[0m\n",
      "\u001b[38;5;178m\u001b[1m----------------------------\u001b[0m\n",
      "\t\u001b[38;5;178m\u001b[1mscore           rae          time\u001b[0m\n",
      "\t\u001b[38;5;10m\u001b[1mtrain\u001b[0m  \u001b[38;5;10m\u001b[1m0.09\u001b[0m \u001b[38;5;150m\u001b[38;5;150m±\u001b[0m\u001b[0m \u001b[38;5;150m0.001\u001b[0m  \u001b[38;5;150m147.1\u001b[0m \u001b[38;5;150m\u001b[38;5;150m±\u001b[0m\u001b[0m \u001b[38;5;150m4.08\u001b[0m\n",
      "\t\u001b[38;5;12m\u001b[1mvalid\u001b[0m  \u001b[38;5;12m\u001b[1m0.21\u001b[0m \u001b[38;5;105m\u001b[38;5;105m±\u001b[0m\u001b[0m \u001b[38;5;105m0.009\u001b[0m   \u001b[38;5;105m14.6\u001b[0m \u001b[38;5;105m\u001b[38;5;105m±\u001b[0m\u001b[0m \u001b[38;5;105m0.38\u001b[0m\n",
      "\t\u001b[38;5;1m\u001b[1mtest\u001b[0m    \u001b[38;5;1m\u001b[1m0.2\u001b[0m \u001b[38;5;218m\u001b[38;5;218m±\u001b[0m\u001b[0m \u001b[38;5;218m0.002\u001b[0m    \u001b[38;5;218m4.7\u001b[0m \u001b[38;5;218m\u001b[38;5;218m±\u001b[0m\u001b[0m \u001b[38;5;218m0.07\u001b[0m\n",
      "\u001b[38;5;178m\u001b[1m----------------------------\u001b[0m\n",
      "\u001b[38;5;178m\u001b[1mBagged scores\u001b[0m\n",
      "\u001b[38;5;178m\u001b[1m----------------------------\u001b[0m\n",
      "\t\u001b[38;5;178m\u001b[1mscore   rae\u001b[0m\n",
      "\t\u001b[38;5;12m\u001b[1mvalid\u001b[0m  \u001b[38;5;12m\u001b[1m0.21\u001b[0m\n",
      "\t\u001b[38;5;1m\u001b[1mtest\u001b[0m   \u001b[38;5;1m\u001b[1m0.20\u001b[0m\n"
     ]
    }
   ],
   "source": [
    "!ramp_test_submission --submission starting_kit"
   ]
  }
 ],
 "metadata": {
  "kernelspec": {
   "display_name": "Python 3",
   "language": "python",
   "name": "python3"
  },
  "language_info": {
   "codemirror_mode": {
    "name": "ipython",
    "version": 3
   },
   "file_extension": ".py",
   "mimetype": "text/x-python",
   "name": "python",
   "nbconvert_exporter": "python",
   "pygments_lexer": "ipython3",
   "version": "3.7.3"
  }
 },
 "nbformat": 4,
 "nbformat_minor": 2
}
